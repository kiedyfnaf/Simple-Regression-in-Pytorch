{
  "nbformat": 4,
  "nbformat_minor": 0,
  "metadata": {
    "colab": {
      "provenance": []
    },
    "kernelspec": {
      "name": "python3",
      "display_name": "Python 3"
    },
    "language_info": {
      "name": "python"
    }
  },
  "cells": [
    {
      "cell_type": "code",
      "source": [
        "import torch\n",
        "import numpy as np\n",
        "import math\n",
        "import time\n",
        "import matplotlib.pyplot as plt\n",
        "from torch import nn\n",
        "import torch.optim as optim\n",
        "import torch.nn.functional as F"
      ],
      "metadata": {
        "id": "zAY9IS09KdmE"
      },
      "execution_count": 217,
      "outputs": []
    },
    {
      "cell_type": "code",
      "source": [
        "#Iterations\n",
        "PARTS = 1000\n",
        "#If the loss change is smaller than that break the training loop (for checking if it converged)\n",
        "CHANGE = 10**(-8)\n",
        "#How much result is rounded\n",
        "ROUNDED = 4\n",
        "#Learning rate\n",
        "LR = 1e-6"
      ],
      "metadata": {
        "id": "jB3PppwU4Y8A"
      },
      "execution_count": 266,
      "outputs": []
    },
    {
      "cell_type": "code",
      "source": [
        "x = torch.linspace(-4, 4, PARTS)\n",
        "y = x**3 + x**2 + x + 1"
      ],
      "metadata": {
        "id": "2FfCebLBKhR5"
      },
      "execution_count": 267,
      "outputs": []
    },
    {
      "cell_type": "code",
      "source": [
        "exp = torch.tensor([1,2,3])\n",
        "x_new = x.unsqueeze(-1).pow(exp)"
      ],
      "metadata": {
        "id": "lu5OWjhKK-pa"
      },
      "execution_count": 268,
      "outputs": []
    },
    {
      "cell_type": "code",
      "source": [
        "model = torch.nn.Sequential(\n",
        "    torch.nn.Linear(len(exp),1),\n",
        "    torch.nn.Flatten(0,1)\n",
        "    )"
      ],
      "metadata": {
        "id": "HjbCCsEQLuf5"
      },
      "execution_count": 269,
      "outputs": []
    },
    {
      "cell_type": "code",
      "source": [
        "loss_fn = torch.nn.MSELoss(reduction='sum')\n",
        "STOP = False\n",
        "LAST_LOSS = [1]\n",
        "loss_history = []\n",
        "while STOP == False:\n",
        "  for t in range(PARTS):\n",
        "    y_pred = model(x_new)\n",
        "    loss = loss_fn(y_pred, y)\n",
        "    loss_history.append(loss.item())\n",
        "    if abs(loss - LAST_LOSS[0]) < CHANGE:\n",
        "      STOP=True\n",
        "      break\n",
        "    else:\n",
        "      LAST_LOSS[0] = loss\n",
        "    if t %(PARTS/25) == 0:\n",
        "      print(t, loss.item())\n",
        "      if math.isnan(loss.item()):\n",
        "        LR *= 10\n",
        "        break\n",
        "    model.zero_grad()\n",
        "    loss.backward()\n",
        "    with torch.no_grad():\n",
        "      for params in model.parameters():\n",
        "        params -= LR * params.grad\n",
        "linear = model[0]"
      ],
      "metadata": {
        "id": "t_4M07klMR5y",
        "colab": {
          "base_uri": "https://localhost:8080/"
        },
        "outputId": "a7c97bdb-7bcc-478f-b350-8f990b468609"
      },
      "execution_count": 270,
      "outputs": [
        {
          "output_type": "stream",
          "name": "stdout",
          "text": [
            "0 615669.75\n",
            "40 1231.3260498046875\n",
            "80 1072.0731201171875\n",
            "120 940.0486450195312\n",
            "160 824.5159912109375\n",
            "200 723.39697265625\n",
            "240 634.8779907226562\n",
            "280 557.375\n",
            "320 489.50469970703125\n",
            "360 430.0579833984375\n",
            "400 377.9769592285156\n",
            "440 332.33935546875\n",
            "480 292.3380126953125\n",
            "520 257.2679443359375\n",
            "560 226.5127410888672\n",
            "600 199.53419494628906\n",
            "640 175.86082458496094\n",
            "680 155.0814666748047\n",
            "720 136.83546447753906\n",
            "760 120.8089828491211\n",
            "800 106.72618103027344\n",
            "840 94.34674072265625\n",
            "880 83.46005249023438\n",
            "920 73.88150787353516\n",
            "960 65.4506607055664\n",
            "0 58.02588653564453\n",
            "40 51.48361587524414\n",
            "80 45.71649932861328\n",
            "120 40.62942123413086\n",
            "160 36.139495849609375\n",
            "200 32.17448425292969\n",
            "240 28.670757293701172\n",
            "280 25.572481155395508\n",
            "320 22.830812454223633\n",
            "360 20.40304946899414\n",
            "400 18.25152015686035\n",
            "440 16.343326568603516\n",
            "480 14.649892807006836\n",
            "520 13.145383834838867\n",
            "560 11.807826042175293\n",
            "600 10.617632865905762\n",
            "640 9.557677268981934\n",
            "680 8.612561225891113\n",
            "720 7.769437789916992\n",
            "760 7.016220569610596\n",
            "800 6.342857360839844\n",
            "840 5.740269660949707\n",
            "880 5.200388431549072\n",
            "920 4.716197967529297\n",
            "960 4.281614303588867\n",
            "0 3.8910064697265625\n",
            "40 3.5396511554718018\n",
            "80 3.223142147064209\n",
            "120 2.937856674194336\n",
            "160 2.680365562438965\n",
            "200 2.4476912021636963\n",
            "240 2.2372899055480957\n",
            "280 2.0467357635498047\n",
            "320 1.8740770816802979\n",
            "360 1.7173749208450317\n",
            "400 1.5750844478607178\n",
            "440 1.4456868171691895\n",
            "480 1.3279272317886353\n",
            "520 1.2206649780273438\n",
            "560 1.1228256225585938\n",
            "600 1.0335679054260254\n",
            "640 0.9519975781440735\n",
            "680 0.8774086833000183\n",
            "720 0.8091558218002319\n",
            "760 0.7466331124305725\n",
            "800 0.6893143057823181\n",
            "840 0.6367259621620178\n",
            "880 0.5884485244750977\n",
            "920 0.5440823435783386\n",
            "960 0.503298819065094\n",
            "0 0.46576210856437683\n",
            "40 0.4311906397342682\n",
            "80 0.3993520438671112\n",
            "120 0.37000706791877747\n",
            "160 0.3429186940193176\n",
            "200 0.31793448328971863\n",
            "240 0.2948536276817322\n",
            "280 0.2735331356525421\n",
            "320 0.25382065773010254\n",
            "360 0.2355964183807373\n",
            "400 0.21872779726982117\n",
            "440 0.20311056077480316\n",
            "480 0.18866479396820068\n",
            "520 0.17527736723423004\n",
            "560 0.1628599762916565\n",
            "600 0.15136271715164185\n",
            "640 0.1406988501548767\n",
            "680 0.13080792129039764\n",
            "720 0.12162555009126663\n",
            "760 0.11311452090740204\n",
            "800 0.10520612448453903\n",
            "840 0.09786863625049591\n",
            "880 0.09105254709720612\n",
            "920 0.08471568673849106\n",
            "960 0.07883210480213165\n",
            "0 0.07336518168449402\n",
            "40 0.06828368455171585\n",
            "80 0.06355490535497665\n",
            "120 0.059167563915252686\n",
            "160 0.055080048739910126\n",
            "200 0.05128118395805359\n",
            "240 0.04774866998195648\n",
            "280 0.044461898505687714\n",
            "320 0.04140312224626541\n",
            "360 0.03855482116341591\n",
            "400 0.035909298807382584\n",
            "440 0.03344103693962097\n",
            "480 0.031146472319960594\n",
            "520 0.029011091217398643\n",
            "560 0.027027292177081108\n",
            "600 0.025176992639899254\n",
            "640 0.02345283329486847\n",
            "680 0.021848613396286964\n",
            "720 0.0203514713793993\n",
            "760 0.01896241120994091\n",
            "800 0.017666062340140343\n",
            "840 0.01645936816930771\n",
            "880 0.015334130264818668\n",
            "920 0.014288753271102905\n",
            "960 0.013313550502061844\n",
            "0 0.01240583322942257\n",
            "40 0.011561285704374313\n",
            "80 0.010772409848868847\n",
            "120 0.010038207285106182\n",
            "160 0.009354142472147942\n",
            "200 0.00871682446449995\n",
            "240 0.008123302832245827\n",
            "280 0.007569695357233286\n",
            "320 0.0070551251992583275\n",
            "360 0.006575252395123243\n",
            "400 0.0061272671446204185\n",
            "440 0.00570936081930995\n",
            "480 0.005320780910551548\n",
            "520 0.004958407487720251\n",
            "560 0.004621128086000681\n",
            "600 0.004306322894990444\n",
            "640 0.004012918099761009\n",
            "680 0.0037406946066766977\n",
            "720 0.0034860551822930574\n",
            "760 0.003250486683100462\n",
            "800 0.0030289501883089542\n",
            "840 0.002823843387886882\n",
            "880 0.002631171839311719\n",
            "920 0.0024521497543901205\n",
            "960 0.002284621587023139\n",
            "0 0.0021288248244673014\n",
            "40 0.0019844723865389824\n",
            "80 0.0018494896357879043\n",
            "120 0.001723978784866631\n",
            "160 0.0016069497214630246\n",
            "200 0.0014976622769609094\n",
            "240 0.0013963482342660427\n",
            "280 0.0013012865092605352\n",
            "320 0.001212776405736804\n",
            "360 0.0011299120960757136\n",
            "400 0.0010536628542467952\n",
            "440 0.0009819006081670523\n",
            "480 0.0009157384629361331\n",
            "520 0.0008532002102583647\n",
            "560 0.0007957075140438974\n",
            "600 0.000742018804885447\n",
            "640 0.000691919878590852\n",
            "680 0.0006446228362619877\n",
            "720 0.0006011758232489228\n",
            "760 0.0005599408177658916\n",
            "800 0.0005219728336669505\n",
            "840 0.00048594610416330397\n",
            "880 0.0004533461469691247\n",
            "920 0.0004221372655592859\n",
            "960 0.0003936797729693353\n",
            "0 0.00036659048055298626\n",
            "40 0.0003419292625039816\n",
            "80 0.00031813542591407895\n",
            "120 0.00029707542853429914\n",
            "160 0.00027665545349009335\n",
            "200 0.0002576848492026329\n",
            "240 0.00024047687475103885\n",
            "280 0.00022364300093613565\n",
            "320 0.00020874454639852047\n",
            "360 0.00019460657495073974\n",
            "400 0.00018115268903784454\n"
          ]
        }
      ]
    },
    {
      "cell_type": "code",
      "source": [
        "weights = []\n",
        "for i in range(len(exp)):\n",
        "  weights.append(round(linear.weight[:,i].item(), ROUNDED))"
      ],
      "metadata": {
        "id": "2OeDUbhv70Jx"
      },
      "execution_count": 271,
      "outputs": []
    },
    {
      "cell_type": "code",
      "source": [
        "result = str(round(linear.bias.item(), ROUNDED))\n",
        "for i in range(len(weights)):\n",
        "  sign = \" + \" if weights[i] > 0 else \" - \"\n",
        "  result += sign + str(abs(weights[i])) + f\"x^{exp[i].item()}\"\n",
        "print(f\"Result: {result}\")"
      ],
      "metadata": {
        "colab": {
          "base_uri": "https://localhost:8080/"
        },
        "id": "72Zv9-yo9caa",
        "outputId": "a56513a3-787c-496f-f76b-cb7b6e617ad5"
      },
      "execution_count": 272,
      "outputs": [
        {
          "output_type": "stream",
          "name": "stdout",
          "text": [
            "Result: 0.9994 + 1.0x^1 + 1.0001x^2 + 1.0x^3\n"
          ]
        }
      ]
    },
    {
      "cell_type": "code",
      "source": [
        "with torch.no_grad():\n",
        "    y_pred = model(x_new)\n",
        "\n",
        "# Plotting the results\n",
        "plt.figure(figsize=(8, 6))\n",
        "plt.plot(y, label=\"True Function\", color=\"blue\")\n",
        "plt.plot(y_pred, label=\"Model Prediction\", color=\"orange\", linestyle=\"--\")\n",
        "plt.title(\"Trained Model Function vs True Function\")\n",
        "plt.xlabel(\"x\")\n",
        "plt.ylabel(\"y\")\n",
        "plt.legend()\n",
        "plt.grid()\n",
        "plt.show()"
      ],
      "metadata": {
        "colab": {
          "base_uri": "https://localhost:8080/",
          "height": 564
        },
        "id": "XHXsfwktAnvY",
        "outputId": "5c170f2f-20e1-41d7-937a-246e9f83b8e1"
      },
      "execution_count": 273,
      "outputs": [
        {
          "output_type": "display_data",
          "data": {
            "text/plain": [
              "<Figure size 800x600 with 1 Axes>"
            ],
            "image/png": "[encoded data removed]"
          },
          "metadata": {}
        }
      ]
    },
    {
      "cell_type": "code",
      "source": [
        "plt.figure(figsize=(7, 5))\n",
        "plt.plot(loss_history, label=\"Loss over Iterations\", color=\"blue\")\n",
        "plt.title(\"Training Loss\")\n",
        "plt.xlabel(\"Iterations\")\n",
        "plt.ylabel(\"Loss\")\n",
        "plt.legend()\n",
        "plt.grid()\n",
        "plt.show()"
      ],
      "metadata": {
        "colab": {
          "base_uri": "https://localhost:8080/",
          "height": 487
        },
        "id": "MirJWjmQ-d8G",
        "outputId": "94a5a714-9b72-4999-f4a0-ab946832219c"
      },
      "execution_count": 274,
      "outputs": [
        {
          "output_type": "display_data",
          "data": {
            "text/plain": [
              "<Figure size 700x500 with 1 Axes>"
            ],
            "image/png": "[encoded data removed]"
          },
          "metadata": {}
        }
      ]
    }
  ]
}